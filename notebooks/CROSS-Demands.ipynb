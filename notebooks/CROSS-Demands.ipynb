{
 "cells": [
  {
   "cell_type": "markdown",
   "id": "f02b32b6",
   "metadata": {},
   "source": [
    "# End-use demands"
   ]
  },
  {
   "cell_type": "code",
   "execution_count": 1,
   "id": "5155649f",
   "metadata": {},
   "outputs": [],
   "source": [
    "import pandas as pd\n",
    "import numpy as np\n",
    "import requests\n",
    "import json\n",
    "import matplotlib.pyplot as plt \n",
    "import io"
   ]
  },
  {
   "cell_type": "markdown",
   "id": "4dddf0e4",
   "metadata": {},
   "source": [
    "## Data from Energieperpectiven 2050+ \n",
    "We compare all our assumption to the [EP2050+](https://www.bfe.admin.ch/bfe/de/home/politik/energieperspektiven-2050-plus.html). The values for the EP2050+ are taken from:\n",
    "* [EP2050+ Szenarienergebnisse ZERO Basis](https://www.bfe.admin.ch/bfe/de/home/politik/energieperspektiven-2050-plus.exturl.html/aHR0cHM6Ly9wdWJkYi5iZmUuYWRtaW4uY2gvZGUvcHVibGljYX/Rpb24vZG93bmxvYWQvMTA0MzQ=.html)\n",
    "* [EP2050+ Szenarienergebnisse WWB](https://www.bfe.admin.ch/bfe/de/home/politik/energieperspektiven-2050-plus.exturl.html/aHR0cHM6Ly9wdWJkYi5iZmUuYWRtaW4uY2gvZGUvcHVibGljYX/Rpb24vZG93bmxvYWQvMTA0NDA=.html)"
   ]
  },
  {
   "cell_type": "code",
   "execution_count": null,
   "id": "85ad67cd",
   "metadata": {},
   "outputs": [],
   "source": [
    "# Load the EP2050+ data\n",
    "from io import BytesIO\n",
    "from zipfile import ZipFile\n",
    "import urllib.request\n",
    "\n",
    "url = 'https://www.bfe.admin.ch/bfe/de/home/politik/energieperspektiven-2050-plus.exturl.html/aHR0cHM6Ly9wdWJkYi5iZmUuYWRtaW4uY2gvZGUvcHVibGljYX/Rpb24vZG93bmxvYWQvMTAzMjQ=.html'\n",
    "ep2050 = pd.read_excel(pd.ExcelFile(url), 'Tabelle 1',index_col=[2],skiprows=11,header=[0], nrows= 10)\n",
    "\n",
    "url = urllib.request.urlopen('https://www.bfe.admin.ch/bfe/de/home/politik/energieperspektiven-2050-plus.exturl.html/aHR0cHM6Ly9wdWJkYi5iZmUuYWRtaW4uY2gvZGUvcHVibGljYX/Rpb24vZG93bmxvYWQvMTA0MzQ=.html')\n",
    "\n",
    "with ZipFile(BytesIO(url.read())) as my_zip_file:\n",
    "    contained_file ='EP2050+_Szenarienergebnisse_ZERO-Basis/EP2050+_Ergebnissynthese_2020-2060_ZERO-Basis_KKW50_ausgeglicheneJahresbilanz_2022-04-12.xlsx'\n",
    "    #Load the macro-economic data\n",
    "    ep2050_macro=pd.read_excel(my_zip_file.open(contained_file), sheet_name='01 Annahmen und Rahmendaten',index_col=[0,1],skiprows=11, nrows= 4)\n",
    "    #Load the ERA\n",
    "    ep2050_ebf=pd.read_excel(my_zip_file.open(contained_file), sheet_name='01 Annahmen und Rahmendaten',index_col=[0,1,2],skiprows=84, nrows= 25)\n",
    "\n",
    "# Remove the empty column to the left\n",
    "ep2050_macro.index = ep2050_macro.index.droplevel(0)\n",
    "ep2050_macro.index = ep2050_macro.index.str.strip()\n",
    "\n",
    "ep2050_ebf.index = ep2050_ebf.index.droplevel([0,1])\n",
    "ep2050_ebf.index = ep2050_ebf.index.str.strip()"
   ]
  }
 ],
 "metadata": {
  "kernelspec": {
   "display_name": "Python 3",
   "language": "python",
   "name": "python3"
  },
  "language_info": {
   "codemirror_mode": {
    "name": "ipython",
    "version": 3
   },
   "file_extension": ".py",
   "mimetype": "text/x-python",
   "name": "python",
   "nbconvert_exporter": "python",
   "pygments_lexer": "ipython3",
   "version": "3.8.8"
  }
 },
 "nbformat": 4,
 "nbformat_minor": 5
}
